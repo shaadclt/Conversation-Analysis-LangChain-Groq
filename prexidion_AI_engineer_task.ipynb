{
  "nbformat": 4,
  "nbformat_minor": 0,
  "metadata": {
    "colab": {
      "provenance": []
    },
    "kernelspec": {
      "name": "python3",
      "display_name": "Python 3"
    },
    "language_info": {
      "name": "python"
    }
  },
  "cells": [
    {
      "cell_type": "code",
      "execution_count": null,
      "metadata": {
        "colab": {
          "base_uri": "https://localhost:8080/"
        },
        "id": "TG9s-qdUc_nZ",
        "outputId": "b89012bd-8cae-4f5d-e644-95d37930fbbd"
      },
      "outputs": [
        {
          "output_type": "stream",
          "name": "stdout",
          "text": [
            "\u001b[2K     \u001b[90m━━━━━━━━━━━━━━━━━━━━━━━━━━━━━━━━━━━━━━━━\u001b[0m \u001b[32m987.6/987.6 kB\u001b[0m \u001b[31m8.5 MB/s\u001b[0m eta \u001b[36m0:00:00\u001b[0m\n",
            "\u001b[2K     \u001b[90m━━━━━━━━━━━━━━━━━━━━━━━━━━━━━━━━━━━━━━━━\u001b[0m \u001b[32m371.7/371.7 kB\u001b[0m \u001b[31m8.1 MB/s\u001b[0m eta \u001b[36m0:00:00\u001b[0m\n",
            "\u001b[2K     \u001b[90m━━━━━━━━━━━━━━━━━━━━━━━━━━━━━━━━━━━━━━━━\u001b[0m \u001b[32m134.3/134.3 kB\u001b[0m \u001b[31m6.6 MB/s\u001b[0m eta \u001b[36m0:00:00\u001b[0m\n",
            "\u001b[2K     \u001b[90m━━━━━━━━━━━━━━━━━━━━━━━━━━━━━━━━━━━━━━━━\u001b[0m \u001b[32m141.1/141.1 kB\u001b[0m \u001b[31m4.1 MB/s\u001b[0m eta \u001b[36m0:00:00\u001b[0m\n",
            "\u001b[?25h"
          ]
        }
      ],
      "source": [
        "!pip install langchain -q"
      ]
    },
    {
      "cell_type": "code",
      "source": [
        "import os\n",
        "from google.colab import userdata\n",
        "\n",
        "os.environ[\"LANGCHAIN_TRACING_V2\"] = \"true\"\n",
        "os.environ[\"LANGCHAIN_API_KEY\"] = userdata.get('LANGCHAIN_API_KEY')\n",
        "os.environ[\"GROQ_API_KEY\"] = userdata.get('GROQ_API_KEY')"
      ],
      "metadata": {
        "id": "YAXf-OQadCrA"
      },
      "execution_count": null,
      "outputs": []
    },
    {
      "cell_type": "code",
      "source": [
        "!pip install -qU langchain-groq"
      ],
      "metadata": {
        "colab": {
          "base_uri": "https://localhost:8080/"
        },
        "id": "NRJvi7s5eDT4",
        "outputId": "26e09fe8-ba60-4381-d0b2-35ef5931ad9c"
      },
      "execution_count": null,
      "outputs": [
        {
          "output_type": "stream",
          "name": "stdout",
          "text": [
            "\u001b[2K     \u001b[90m━━━━━━━━━━━━━━━━━━━━━━━━━━━━━━━━━━━━━━━━\u001b[0m \u001b[32m103.5/103.5 kB\u001b[0m \u001b[31m3.7 MB/s\u001b[0m eta \u001b[36m0:00:00\u001b[0m\n",
            "\u001b[2K     \u001b[90m━━━━━━━━━━━━━━━━━━━━━━━━━━━━━━━━━━━━━━━━\u001b[0m \u001b[32m75.6/75.6 kB\u001b[0m \u001b[31m5.3 MB/s\u001b[0m eta \u001b[36m0:00:00\u001b[0m\n",
            "\u001b[2K     \u001b[90m━━━━━━━━━━━━━━━━━━━━━━━━━━━━━━━━━━━━━━━━\u001b[0m \u001b[32m77.9/77.9 kB\u001b[0m \u001b[31m5.7 MB/s\u001b[0m eta \u001b[36m0:00:00\u001b[0m\n",
            "\u001b[2K     \u001b[90m━━━━━━━━━━━━━━━━━━━━━━━━━━━━━━━━━━━━━━━━\u001b[0m \u001b[32m58.3/58.3 kB\u001b[0m \u001b[31m5.5 MB/s\u001b[0m eta \u001b[36m0:00:00\u001b[0m\n",
            "\u001b[?25h"
          ]
        }
      ]
    },
    {
      "cell_type": "code",
      "source": [
        "from langchain_groq import ChatGroq\n",
        "\n",
        "model = ChatGroq(model=\"llama3-8b-8192\")"
      ],
      "metadata": {
        "id": "16im6qP8eJwF"
      },
      "execution_count": null,
      "outputs": []
    },
    {
      "cell_type": "code",
      "source": [
        "conversation = \"\"\"\n",
        "Recovery Agent (RA): नमस्तेश्री कुमार, मैंएक्स वाई जेड फाइनेंस सेबोल रहा हूं। आपके लोन के बारेमेंबात\n",
        "करनी थी।\n",
        "Borrower (B): हां, बोलि ए। क्या बात है?\n",
        "RA: सर, आपका पि छलेमहीनेका EMI अभी तक नहींआया है। क्या कोई समस्या है?\n",
        "B: हां, थोड़ी दि क्कत है। मेरी नौकरी चली गई हैऔर मैंनया काम ढूंढ रहा हूं।\n",
        "RA: ओह, यह तो बुरा हुआ। लेकि न सर, आपको समझना होगा कि लोन का भुगतान समय पर करना बहुत जरूरी\n",
        "है।\n",
        "B: मैंसमझता हूं, लेकि न अभी मेरेपास पैसेनहींहैं। क्या कुछ समय मि ल सकता है?\n",
        "RA: हम समझतेहैंआपकी स्थि ति । क्या आप अगलेहफ्तेतक कुछ भुगतान कर सकतेहैं?\n",
        "B: मैंकोशि श करूंगा, लेकि न पूरा EMI नहींदेपाऊंगा। क्या आधा भुगतान चलेगा?\n",
        "RA: ठीक है, आधा भुगतान अगलेहफ्तेतक कर दीजि ए। बाकी का क्या प्लान हैआपका?\n",
        "B: मुझेउम्मीद हैकि अगलेमहीनेतक मुझेनया काम मि ल जाएगा। तब मैंबाकी बकाया चकु ा दंगू ा।\n",
        "RA: ठीक है। तो हम ऐसा करतेहैं- आप अगलेहफ्तेतक आधा EMI जमा कर दीजि ए, और अगलेमहीनेके 15\n",
        "तारीख तक बाकी का भुगतान कर दीजि ए। क्या यह आपको स्वीकार है?\n",
        "B: हां, यह ठीक रहेगा। मैंइस प्लान का पालन करनेकी पूरी कोशि श करूंगा।\n",
        "RA: बहुत अच्छा। मैंआपको एक SMS भेज रहा हूंजि समेंभुगतान की डि टेल्स होंगी। कृपया इसका पालन करें\n",
        "और समय पर भुगतान करें।\n",
        "B: ठीक है, धन्यवाद आपके समझनेके लि ए।\n",
        "RA: आपका स्वागत है। अगर कोई और सवाल हो तो मुझेबताइएगा। अलवि दा।\n",
        "B: अलवि दा।\n",
        "\"\"\""
      ],
      "metadata": {
        "id": "R5VhhENfeNXF"
      },
      "execution_count": null,
      "outputs": []
    },
    {
      "cell_type": "code",
      "source": [
        "from langchain_core.messages import HumanMessage, SystemMessage\n",
        "\n",
        "instructions=\"\"\"\n",
        "1. Summarize the following conversation\n",
        "2. Identify key actions or next steps\n",
        "3. Undertake sentiment analysis of both the recovery agent and the borrower.\n",
        "\"\"\"\n",
        "messages = [\n",
        "    SystemMessage(content=instructions),\n",
        "    HumanMessage(content=conversation),\n",
        "]\n",
        "\n",
        "model.invoke(messages)"
      ],
      "metadata": {
        "colab": {
          "base_uri": "https://localhost:8080/"
        },
        "id": "on5arrBmeSWn",
        "outputId": "ea60ca49-c688-4833-d3c4-dc234db96f46"
      },
      "execution_count": 10,
      "outputs": [
        {
          "output_type": "execute_result",
          "data": {
            "text/plain": [
              "AIMessage(content=\"Summary:\\n\\nThe conversation is between a Recovery Agent (RA) from X Wai Jee Finance and a borrower (B) who has missed his loan payment. The RA informs the borrower that his EMI is overdue and asks if there is a problem. The borrower explains that he has lost his job and is currently looking for a new one. The RA emphasizes the importance of timely loan payments, but the borrower requests some time to make the payment. They agree on a plan where the borrower will pay half of the EMI this week and the remaining amount by the 15th of next month. The RA sends an SMS to the borrower with the payment details and asks him to follow up.\\n\\nKey actions or next steps:\\n\\n* The borrower will pay half of the EMI this week.\\n* The borrower will pay the remaining amount by the 15th of next month.\\n* The RA will send an SMS to the borrower with the payment details.\\n* The borrower will follow up with the payment plan.\\n\\nSentiment Analysis:\\n\\nRecovery Agent (RA):\\n\\n* The RA is empathetic towards the borrower's situation, acknowledging that the borrower has lost his job and is currently looking for a new one.\\n* The RA is firm but polite in emphasizing the importance of timely loan payments.\\n* The RA is willing to work with the borrower to find a solution, agreeing to a payment plan and sending an SMS to the borrower with the payment details.\\n\\nSentiment: Neutral to Positive\\n\\nBorrower (B):\\n\\n* The borrower is apologetic and explains his situation, showing willingness to make the loan payment.\\n* The borrower is cooperative and agrees to the payment plan proposed by the RA.\\n* The borrower expresses gratitude towards the RA for understanding his situation.\\n\\nSentiment: Positive\", response_metadata={'token_usage': {'completion_tokens': 355, 'prompt_tokens': 683, 'total_tokens': 1038, 'completion_time': 0.28657856, 'prompt_time': 0.16401579, 'queue_time': None, 'total_time': 0.45059435}, 'model_name': 'llama3-8b-8192', 'system_fingerprint': 'fp_af05557ca2', 'finish_reason': 'stop', 'logprobs': None}, id='run-a2c60fa4-54c2-49fc-b843-2b888ae2766b-0', usage_metadata={'input_tokens': 683, 'output_tokens': 355, 'total_tokens': 1038})"
            ]
          },
          "metadata": {},
          "execution_count": 10
        }
      ]
    },
    {
      "cell_type": "code",
      "source": [
        "from langchain_core.output_parsers import StrOutputParser\n",
        "\n",
        "parser = StrOutputParser()"
      ],
      "metadata": {
        "id": "oRC09VjoeWq3"
      },
      "execution_count": 11,
      "outputs": []
    },
    {
      "cell_type": "code",
      "source": [
        "result = model.invoke(messages)"
      ],
      "metadata": {
        "id": "0kJcoWrSeqEW"
      },
      "execution_count": 12,
      "outputs": []
    },
    {
      "cell_type": "code",
      "source": [
        "parser.invoke(result)"
      ],
      "metadata": {
        "colab": {
          "base_uri": "https://localhost:8080/",
          "height": 174
        },
        "id": "TN0BAhsmfHqF",
        "outputId": "d7f72a6b-a48f-4b29-a121-10dcc1bf1918"
      },
      "execution_count": 13,
      "outputs": [
        {
          "output_type": "execute_result",
          "data": {
            "text/plain": [
              "\"**Summary of the conversation:**\\n\\nThe Recovery Agent (RA) from X-Way Zed Finance calls the borrower (B) to discuss their loan payment. The RA informs the borrower that the EMI for the past month has not been paid, and asks if there is any problem. The borrower explains that they have lost their job and are currently looking for a new one. The RA emphasizes the importance of timely loan payments, but the borrower requests some time to make the payment. The RA agrees to accept half of the EMI payment this week and the rest by the 15th of the next month. The borrower agrees to this plan and promises to follow up with the payment schedule.\\n\\n**Key actions or next steps:**\\n\\n* The borrower will pay half of the EMI this week.\\n* The borrower will pay the remaining EMI by the 15th of the next month.\\n* The RA will send an SMS with the payment details.\\n* The borrower will follow up with the payment schedule.\\n\\n**Sentiment analysis of both the Recovery Agent and the Borrower:**\\n\\n* Recovery Agent (RA): The RA's tone is professional and empathetic. They understand the borrower's situation and try to find a solution that works for both parties. The RA's language is clear and concise, and they reiterate the importance of timely loan payments.\\n* Borrower (B): The borrower's tone is apologetic and anxious. They explain their situation and request some time to make the payment. The borrower seems to be cooperative and agrees to the plan proposed by the RA. The borrower's language is honest and sincere, and they express gratitude for the RA's understanding.\""
            ],
            "application/vnd.google.colaboratory.intrinsic+json": {
              "type": "string"
            }
          },
          "metadata": {},
          "execution_count": 13
        }
      ]
    }
  ]
}